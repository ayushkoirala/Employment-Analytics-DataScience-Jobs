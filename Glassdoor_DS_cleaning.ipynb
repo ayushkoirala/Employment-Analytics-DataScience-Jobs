{
  "cells": [
    {
      "cell_type": "markdown",
      "id": "89e74b46",
      "metadata": {
        "id": "89e74b46"
      },
      "source": [
        "# Data Scientist Job (Glassdoor) Data Analysis"
      ]
    },
    {
      "cell_type": "markdown",
      "id": "813b598c",
      "metadata": {
        "id": "813b598c"
      },
      "source": [
        "## Information\n",
        "\n",
        "In this project I scraped job postings related to the position of 'Data Scientist' from www.glassdoor.com. This project is inspired by Ken Jee (https://github.com/PlayingNumbers). I have used a modified version of Ken Jee's selenium code because that code was not working raw for me. Selenium was used because it has small chance of getting caught by glassdoor as it mimics a human kind of interaction. Sending too many request could still increase chances of getting IP block which limited the dataset to only 1000 jobs.\n",
        "\n",
        "With each job, we got the following:\n",
        "\n",
        "- Job title\n",
        "- Salary Estimate\n",
        "- Job Description\n",
        "- Rating\n",
        "- Company\n",
        "- Location\n",
        "- Company Headquarters\n",
        "- Company Size\n",
        "- Company Founded Date\n",
        "- Type of Ownership\n",
        "- Industry\n",
        "- Sector\n",
        "- Revenue\n",
        "- Competitors"
      ]
    },
    {
      "cell_type": "markdown",
      "id": "6ef83d3f",
      "metadata": {
        "id": "6ef83d3f"
      },
      "source": [
        "Columns with value -1 mean data scraping was unsuccessful for that job."
      ]
    },
    {
      "cell_type": "markdown",
      "id": "77d6fa4e",
      "metadata": {
        "id": "77d6fa4e"
      },
      "source": [
        "## About Glassdoor"
      ]
    },
    {
      "cell_type": "code",
      "execution_count": 1,
      "id": "308f9a04",
      "metadata": {
        "colab": {
          "base_uri": "https://localhost:8080/",
          "height": 217
        },
        "id": "308f9a04",
        "outputId": "1523f88d-c5ad-4b1e-ef2e-b778afae35d1"
      },
      "outputs": [
        {
          "ename": "FileNotFoundError",
          "evalue": "[Errno 2] No such file or directory: 'image.jpg'",
          "output_type": "error",
          "traceback": [
            "\u001b[1;31m---------------------------------------------------------------------------\u001b[0m",
            "\u001b[1;31mFileNotFoundError\u001b[0m                         Traceback (most recent call last)",
            "\u001b[1;32m~\\AppData\\Local\\Temp\\ipykernel_3816\\3173418906.py\u001b[0m in \u001b[0;36m<module>\u001b[1;34m\u001b[0m\n\u001b[0;32m      1\u001b[0m \u001b[1;32mfrom\u001b[0m \u001b[0mIPython\u001b[0m\u001b[1;33m.\u001b[0m\u001b[0mdisplay\u001b[0m \u001b[1;32mimport\u001b[0m \u001b[0mImage\u001b[0m\u001b[1;33m\u001b[0m\u001b[1;33m\u001b[0m\u001b[0m\n\u001b[0;32m      2\u001b[0m \u001b[1;32mfrom\u001b[0m \u001b[0mIPython\u001b[0m\u001b[1;33m.\u001b[0m\u001b[0mcore\u001b[0m\u001b[1;33m.\u001b[0m\u001b[0mdisplay\u001b[0m \u001b[1;32mimport\u001b[0m \u001b[0mHTML\u001b[0m\u001b[1;33m\u001b[0m\u001b[1;33m\u001b[0m\u001b[0m\n\u001b[1;32m----> 3\u001b[1;33m \u001b[0mImage\u001b[0m\u001b[1;33m(\u001b[0m\u001b[0mfilename\u001b[0m \u001b[1;33m=\u001b[0m \u001b[1;34m\"image.jpg\"\u001b[0m\u001b[1;33m,\u001b[0m \u001b[0mwidth\u001b[0m\u001b[1;33m=\u001b[0m\u001b[1;36m400\u001b[0m\u001b[1;33m,\u001b[0m \u001b[0mheight\u001b[0m\u001b[1;33m=\u001b[0m\u001b[1;36m200\u001b[0m\u001b[1;33m)\u001b[0m\u001b[1;33m\u001b[0m\u001b[1;33m\u001b[0m\u001b[0m\n\u001b[0m",
            "\u001b[1;32mc:\\anaconda3\\lib\\site-packages\\IPython\\core\\display.py\u001b[0m in \u001b[0;36m__init__\u001b[1;34m(self, data, url, filename, format, embed, width, height, retina, unconfined, metadata)\u001b[0m\n\u001b[0;32m   1229\u001b[0m         \u001b[0mself\u001b[0m\u001b[1;33m.\u001b[0m\u001b[0mretina\u001b[0m \u001b[1;33m=\u001b[0m \u001b[0mretina\u001b[0m\u001b[1;33m\u001b[0m\u001b[1;33m\u001b[0m\u001b[0m\n\u001b[0;32m   1230\u001b[0m         \u001b[0mself\u001b[0m\u001b[1;33m.\u001b[0m\u001b[0munconfined\u001b[0m \u001b[1;33m=\u001b[0m \u001b[0munconfined\u001b[0m\u001b[1;33m\u001b[0m\u001b[1;33m\u001b[0m\u001b[0m\n\u001b[1;32m-> 1231\u001b[1;33m         super(Image, self).__init__(data=data, url=url, filename=filename, \n\u001b[0m\u001b[0;32m   1232\u001b[0m                 metadata=metadata)\n\u001b[0;32m   1233\u001b[0m \u001b[1;33m\u001b[0m\u001b[0m\n",
            "\u001b[1;32mc:\\anaconda3\\lib\\site-packages\\IPython\\core\\display.py\u001b[0m in \u001b[0;36m__init__\u001b[1;34m(self, data, url, filename, metadata)\u001b[0m\n\u001b[0;32m    635\u001b[0m             \u001b[0mself\u001b[0m\u001b[1;33m.\u001b[0m\u001b[0mmetadata\u001b[0m \u001b[1;33m=\u001b[0m \u001b[1;33m{\u001b[0m\u001b[1;33m}\u001b[0m\u001b[1;33m\u001b[0m\u001b[1;33m\u001b[0m\u001b[0m\n\u001b[0;32m    636\u001b[0m \u001b[1;33m\u001b[0m\u001b[0m\n\u001b[1;32m--> 637\u001b[1;33m         \u001b[0mself\u001b[0m\u001b[1;33m.\u001b[0m\u001b[0mreload\u001b[0m\u001b[1;33m(\u001b[0m\u001b[1;33m)\u001b[0m\u001b[1;33m\u001b[0m\u001b[1;33m\u001b[0m\u001b[0m\n\u001b[0m\u001b[0;32m    638\u001b[0m         \u001b[0mself\u001b[0m\u001b[1;33m.\u001b[0m\u001b[0m_check_data\u001b[0m\u001b[1;33m(\u001b[0m\u001b[1;33m)\u001b[0m\u001b[1;33m\u001b[0m\u001b[1;33m\u001b[0m\u001b[0m\n\u001b[0;32m    639\u001b[0m \u001b[1;33m\u001b[0m\u001b[0m\n",
            "\u001b[1;32mc:\\anaconda3\\lib\\site-packages\\IPython\\core\\display.py\u001b[0m in \u001b[0;36mreload\u001b[1;34m(self)\u001b[0m\n\u001b[0;32m   1261\u001b[0m         \u001b[1;34m\"\"\"Reload the raw data from file or URL.\"\"\"\u001b[0m\u001b[1;33m\u001b[0m\u001b[1;33m\u001b[0m\u001b[0m\n\u001b[0;32m   1262\u001b[0m         \u001b[1;32mif\u001b[0m \u001b[0mself\u001b[0m\u001b[1;33m.\u001b[0m\u001b[0membed\u001b[0m\u001b[1;33m:\u001b[0m\u001b[1;33m\u001b[0m\u001b[1;33m\u001b[0m\u001b[0m\n\u001b[1;32m-> 1263\u001b[1;33m             \u001b[0msuper\u001b[0m\u001b[1;33m(\u001b[0m\u001b[0mImage\u001b[0m\u001b[1;33m,\u001b[0m\u001b[0mself\u001b[0m\u001b[1;33m)\u001b[0m\u001b[1;33m.\u001b[0m\u001b[0mreload\u001b[0m\u001b[1;33m(\u001b[0m\u001b[1;33m)\u001b[0m\u001b[1;33m\u001b[0m\u001b[1;33m\u001b[0m\u001b[0m\n\u001b[0m\u001b[0;32m   1264\u001b[0m             \u001b[1;32mif\u001b[0m \u001b[0mself\u001b[0m\u001b[1;33m.\u001b[0m\u001b[0mretina\u001b[0m\u001b[1;33m:\u001b[0m\u001b[1;33m\u001b[0m\u001b[1;33m\u001b[0m\u001b[0m\n\u001b[0;32m   1265\u001b[0m                 \u001b[0mself\u001b[0m\u001b[1;33m.\u001b[0m\u001b[0m_retina_shape\u001b[0m\u001b[1;33m(\u001b[0m\u001b[1;33m)\u001b[0m\u001b[1;33m\u001b[0m\u001b[1;33m\u001b[0m\u001b[0m\n",
            "\u001b[1;32mc:\\anaconda3\\lib\\site-packages\\IPython\\core\\display.py\u001b[0m in \u001b[0;36mreload\u001b[1;34m(self)\u001b[0m\n\u001b[0;32m    660\u001b[0m         \u001b[1;34m\"\"\"Reload the raw data from file or URL.\"\"\"\u001b[0m\u001b[1;33m\u001b[0m\u001b[1;33m\u001b[0m\u001b[0m\n\u001b[0;32m    661\u001b[0m         \u001b[1;32mif\u001b[0m \u001b[0mself\u001b[0m\u001b[1;33m.\u001b[0m\u001b[0mfilename\u001b[0m \u001b[1;32mis\u001b[0m \u001b[1;32mnot\u001b[0m \u001b[1;32mNone\u001b[0m\u001b[1;33m:\u001b[0m\u001b[1;33m\u001b[0m\u001b[1;33m\u001b[0m\u001b[0m\n\u001b[1;32m--> 662\u001b[1;33m             \u001b[1;32mwith\u001b[0m \u001b[0mopen\u001b[0m\u001b[1;33m(\u001b[0m\u001b[0mself\u001b[0m\u001b[1;33m.\u001b[0m\u001b[0mfilename\u001b[0m\u001b[1;33m,\u001b[0m \u001b[0mself\u001b[0m\u001b[1;33m.\u001b[0m\u001b[0m_read_flags\u001b[0m\u001b[1;33m)\u001b[0m \u001b[1;32mas\u001b[0m \u001b[0mf\u001b[0m\u001b[1;33m:\u001b[0m\u001b[1;33m\u001b[0m\u001b[1;33m\u001b[0m\u001b[0m\n\u001b[0m\u001b[0;32m    663\u001b[0m                 \u001b[0mself\u001b[0m\u001b[1;33m.\u001b[0m\u001b[0mdata\u001b[0m \u001b[1;33m=\u001b[0m \u001b[0mf\u001b[0m\u001b[1;33m.\u001b[0m\u001b[0mread\u001b[0m\u001b[1;33m(\u001b[0m\u001b[1;33m)\u001b[0m\u001b[1;33m\u001b[0m\u001b[1;33m\u001b[0m\u001b[0m\n\u001b[0;32m    664\u001b[0m         \u001b[1;32melif\u001b[0m \u001b[0mself\u001b[0m\u001b[1;33m.\u001b[0m\u001b[0murl\u001b[0m \u001b[1;32mis\u001b[0m \u001b[1;32mnot\u001b[0m \u001b[1;32mNone\u001b[0m\u001b[1;33m:\u001b[0m\u001b[1;33m\u001b[0m\u001b[1;33m\u001b[0m\u001b[0m\n",
            "\u001b[1;31mFileNotFoundError\u001b[0m: [Errno 2] No such file or directory: 'image.jpg'"
          ]
        }
      ],
      "source": [
        "# from IPython.display import Image\n",
        "# from IPython.core.display import HTML \n",
        "# Image(filename = \"image.jpg\", width=400, height=200)"
      ]
    },
    {
      "cell_type": "markdown",
      "id": "13518d2c",
      "metadata": {
        "id": "13518d2c"
      },
      "source": [
        "Glassdoor is a website where current and former employees anonymously review companies. Glassdoor also allows users to anonymously submit and view salaries as well as search and apply for jobs on its platform.Glassdoor launched its site in 2008 , as a site that “collects company reviews and real salaries from employees of large companies and displays them anonymously for all members to see,” according to TechCrunch. The company then averaged the reported salaries, posting these averages alongside the reviews employees made of the management and culture of the companies they worked for—including some of the larger tech companies like Google and Yahoo. The site also allows the posting of office photographs and other company-relevant media."
      ]
    },
    {
      "cell_type": "markdown",
      "id": "e81fb538",
      "metadata": {
        "id": "e81fb538"
      },
      "source": [
        "## Information about the Dataset\n",
        "1. Job Title: The title of job, eg. Data scientist, junior data scientist, senior data scientist etc.\n",
        "2. Salary Estimate: Range of salary and the source.\n",
        "3. Job Description: Tells us what is expected out of the job title.\n",
        "4. Rating: It gives the rating of the company\n",
        "5. Company Name: Name of the company\n",
        "6. Location: Location of the job\n",
        "7. Headquarters: location of headquarter of the company\n",
        "8. Size: Range of number of employee working in the company\n",
        "9. Founded: Company founded in Year\n",
        "10. Type of ownership: Tells us if the company is private, public or government owned.\n",
        "11. Industry: Industry of the company\n",
        "12. Sector: Sector in which company works\n",
        "13. Revenue: Total revennue of the company per year\n",
        "14. Competitors: Current competitor of the company in the same sector"
      ]
    },
    {
      "cell_type": "markdown",
      "id": "8c8f27e4",
      "metadata": {
        "id": "8c8f27e4"
      },
      "source": [
        "## Credits\n",
        "1. Ken Jee - https://github.com/PlayingNumbers\n",
        "2. Echestare - https://github.com/echestare/001KenJeeFromScratch_DSSalary"
      ]
    },
    {
      "cell_type": "markdown",
      "id": "356e1c7b",
      "metadata": {
        "id": "356e1c7b"
      },
      "source": [
        "## (A) Data cleaning\n",
        "\n",
        "1. Load the file using pandas library\n",
        "2. Cleaning the dataset"
      ]
    },
    {
      "cell_type": "markdown",
      "id": "CMMJ14ZQk9EQ",
      "metadata": {
        "id": "CMMJ14ZQk9EQ"
      },
      "source": [
        "## 1. Importing libraries and loading the dataset"
      ]
    },
    {
      "cell_type": "code",
      "execution_count": 2,
      "id": "502cba85",
      "metadata": {
        "id": "502cba85"
      },
      "outputs": [],
      "source": [
        "import pandas as pd\n",
        "import numpy as np\n",
        "import seaborn as sns\n",
        "import matplotlib.pyplot as plt\n",
        "#import plotly"
      ]
    },
    {
      "cell_type": "code",
      "execution_count": 4,
      "id": "07703d3d",
      "metadata": {
        "colab": {
          "base_uri": "https://localhost:8080/",
          "height": 565
        },
        "id": "07703d3d",
        "outputId": "48e31494-61fb-421d-cb81-2599397ae5b0"
      },
      "outputs": [
        {
          "data": {
            "text/html": [
              "<div>\n",
              "<style scoped>\n",
              "    .dataframe tbody tr th:only-of-type {\n",
              "        vertical-align: middle;\n",
              "    }\n",
              "\n",
              "    .dataframe tbody tr th {\n",
              "        vertical-align: top;\n",
              "    }\n",
              "\n",
              "    .dataframe thead th {\n",
              "        text-align: right;\n",
              "    }\n",
              "</style>\n",
              "<table border=\"1\" class=\"dataframe\">\n",
              "  <thead>\n",
              "    <tr style=\"text-align: right;\">\n",
              "      <th></th>\n",
              "      <th>Unnamed: 0</th>\n",
              "      <th>Job Title</th>\n",
              "      <th>Salary Estimate</th>\n",
              "      <th>Job Description</th>\n",
              "      <th>Rating</th>\n",
              "      <th>Company Name</th>\n",
              "      <th>Location</th>\n",
              "      <th>Headquarters</th>\n",
              "      <th>Size</th>\n",
              "      <th>Founded</th>\n",
              "      <th>Type of ownership</th>\n",
              "      <th>Industry</th>\n",
              "      <th>Sector</th>\n",
              "      <th>Revenue</th>\n",
              "      <th>Competitors</th>\n",
              "    </tr>\n",
              "  </thead>\n",
              "  <tbody>\n",
              "    <tr>\n",
              "      <th>0</th>\n",
              "      <td>0</td>\n",
              "      <td>Data Scientist</td>\n",
              "      <td>$53K-$91K (Glassdoor est.)</td>\n",
              "      <td>Data Scientist\\nLocation: Albuquerque, NM\\nEdu...</td>\n",
              "      <td>3.8</td>\n",
              "      <td>Tecolote Research\\n3.8</td>\n",
              "      <td>Albuquerque, NM</td>\n",
              "      <td>Goleta, CA</td>\n",
              "      <td>501 to 1000 employees</td>\n",
              "      <td>1973</td>\n",
              "      <td>Company - Private</td>\n",
              "      <td>Aerospace &amp; Defense</td>\n",
              "      <td>Aerospace &amp; Defense</td>\n",
              "      <td>$50 to $100 million (USD)</td>\n",
              "      <td>-1</td>\n",
              "    </tr>\n",
              "    <tr>\n",
              "      <th>1</th>\n",
              "      <td>1</td>\n",
              "      <td>Healthcare Data Scientist</td>\n",
              "      <td>$63K-$112K (Glassdoor est.)</td>\n",
              "      <td>What You Will Do:\\n\\nI. General Summary\\n\\nThe...</td>\n",
              "      <td>3.4</td>\n",
              "      <td>University of Maryland Medical System\\n3.4</td>\n",
              "      <td>Linthicum, MD</td>\n",
              "      <td>Baltimore, MD</td>\n",
              "      <td>10000+ employees</td>\n",
              "      <td>1984</td>\n",
              "      <td>Other Organization</td>\n",
              "      <td>Health Care Services &amp; Hospitals</td>\n",
              "      <td>Health Care</td>\n",
              "      <td>$2 to $5 billion (USD)</td>\n",
              "      <td>-1</td>\n",
              "    </tr>\n",
              "    <tr>\n",
              "      <th>2</th>\n",
              "      <td>2</td>\n",
              "      <td>Data Scientist</td>\n",
              "      <td>$80K-$90K (Glassdoor est.)</td>\n",
              "      <td>KnowBe4, Inc. is a high growth information sec...</td>\n",
              "      <td>4.8</td>\n",
              "      <td>KnowBe4\\n4.8</td>\n",
              "      <td>Clearwater, FL</td>\n",
              "      <td>Clearwater, FL</td>\n",
              "      <td>501 to 1000 employees</td>\n",
              "      <td>2010</td>\n",
              "      <td>Company - Private</td>\n",
              "      <td>Security Services</td>\n",
              "      <td>Business Services</td>\n",
              "      <td>$100 to $500 million (USD)</td>\n",
              "      <td>-1</td>\n",
              "    </tr>\n",
              "    <tr>\n",
              "      <th>3</th>\n",
              "      <td>3</td>\n",
              "      <td>Data Scientist</td>\n",
              "      <td>$56K-$97K (Glassdoor est.)</td>\n",
              "      <td>*Organization and Job ID**\\nJob ID: 310709\\n\\n...</td>\n",
              "      <td>3.8</td>\n",
              "      <td>PNNL\\n3.8</td>\n",
              "      <td>Richland, WA</td>\n",
              "      <td>Richland, WA</td>\n",
              "      <td>1001 to 5000 employees</td>\n",
              "      <td>1965</td>\n",
              "      <td>Government</td>\n",
              "      <td>Energy</td>\n",
              "      <td>Oil, Gas, Energy &amp; Utilities</td>\n",
              "      <td>$500 million to $1 billion (USD)</td>\n",
              "      <td>Oak Ridge National Laboratory, National Renewa...</td>\n",
              "    </tr>\n",
              "    <tr>\n",
              "      <th>4</th>\n",
              "      <td>4</td>\n",
              "      <td>Data Scientist</td>\n",
              "      <td>$86K-$143K (Glassdoor est.)</td>\n",
              "      <td>Data Scientist\\nAffinity Solutions / Marketing...</td>\n",
              "      <td>2.9</td>\n",
              "      <td>Affinity Solutions\\n2.9</td>\n",
              "      <td>New York, NY</td>\n",
              "      <td>New York, NY</td>\n",
              "      <td>51 to 200 employees</td>\n",
              "      <td>1998</td>\n",
              "      <td>Company - Private</td>\n",
              "      <td>Advertising &amp; Marketing</td>\n",
              "      <td>Business Services</td>\n",
              "      <td>Unknown / Non-Applicable</td>\n",
              "      <td>Commerce Signals, Cardlytics, Yodlee</td>\n",
              "    </tr>\n",
              "  </tbody>\n",
              "</table>\n",
              "</div>"
            ],
            "text/plain": [
              "   Unnamed: 0                  Job Title              Salary Estimate  \\\n",
              "0           0             Data Scientist   $53K-$91K (Glassdoor est.)   \n",
              "1           1  Healthcare Data Scientist  $63K-$112K (Glassdoor est.)   \n",
              "2           2             Data Scientist   $80K-$90K (Glassdoor est.)   \n",
              "3           3             Data Scientist   $56K-$97K (Glassdoor est.)   \n",
              "4           4             Data Scientist  $86K-$143K (Glassdoor est.)   \n",
              "\n",
              "                                     Job Description  Rating  \\\n",
              "0  Data Scientist\\nLocation: Albuquerque, NM\\nEdu...     3.8   \n",
              "1  What You Will Do:\\n\\nI. General Summary\\n\\nThe...     3.4   \n",
              "2  KnowBe4, Inc. is a high growth information sec...     4.8   \n",
              "3  *Organization and Job ID**\\nJob ID: 310709\\n\\n...     3.8   \n",
              "4  Data Scientist\\nAffinity Solutions / Marketing...     2.9   \n",
              "\n",
              "                                 Company Name         Location  \\\n",
              "0                      Tecolote Research\\n3.8  Albuquerque, NM   \n",
              "1  University of Maryland Medical System\\n3.4    Linthicum, MD   \n",
              "2                                KnowBe4\\n4.8   Clearwater, FL   \n",
              "3                                   PNNL\\n3.8     Richland, WA   \n",
              "4                     Affinity Solutions\\n2.9     New York, NY   \n",
              "\n",
              "     Headquarters                    Size  Founded   Type of ownership  \\\n",
              "0      Goleta, CA   501 to 1000 employees     1973   Company - Private   \n",
              "1   Baltimore, MD        10000+ employees     1984  Other Organization   \n",
              "2  Clearwater, FL   501 to 1000 employees     2010   Company - Private   \n",
              "3    Richland, WA  1001 to 5000 employees     1965          Government   \n",
              "4    New York, NY     51 to 200 employees     1998   Company - Private   \n",
              "\n",
              "                           Industry                        Sector  \\\n",
              "0               Aerospace & Defense           Aerospace & Defense   \n",
              "1  Health Care Services & Hospitals                   Health Care   \n",
              "2                 Security Services             Business Services   \n",
              "3                            Energy  Oil, Gas, Energy & Utilities   \n",
              "4           Advertising & Marketing             Business Services   \n",
              "\n",
              "                            Revenue  \\\n",
              "0         $50 to $100 million (USD)   \n",
              "1            $2 to $5 billion (USD)   \n",
              "2        $100 to $500 million (USD)   \n",
              "3  $500 million to $1 billion (USD)   \n",
              "4          Unknown / Non-Applicable   \n",
              "\n",
              "                                         Competitors  \n",
              "0                                                 -1  \n",
              "1                                                 -1  \n",
              "2                                                 -1  \n",
              "3  Oak Ridge National Laboratory, National Renewa...  \n",
              "4               Commerce Signals, Cardlytics, Yodlee  "
            ]
          },
          "execution_count": 4,
          "metadata": {},
          "output_type": "execute_result"
        }
      ],
      "source": [
        "df = pd.read_csv(\"data_scraped_2020.csv\")\n",
        "df.head(5)"
      ]
    },
    {
      "cell_type": "code",
      "execution_count": 5,
      "id": "e4TyV-f6e4jx",
      "metadata": {
        "id": "e4TyV-f6e4jx"
      },
      "outputs": [],
      "source": [
        "#Dropping the unnamed column\n",
        "df= df.drop([\"Unnamed: 0\"],axis=1)"
      ]
    },
    {
      "cell_type": "markdown",
      "id": "ad17464f",
      "metadata": {
        "id": "ad17464f"
      },
      "source": [
        "## 2. Parsing numeric data out of salary column as Lower salary, Upper Salary and Average Salary\n"
      ]
    },
    {
      "cell_type": "code",
      "execution_count": 6,
      "id": "babdb8fa",
      "metadata": {
        "id": "babdb8fa"
      },
      "outputs": [],
      "source": [
        "# We have few -1 values in the Salary Estimate column. Lets try to remove those -1 values first. \n",
        "#Remember -1 is because the scrapper was not able to get the value for it or it was not even present on glasdoor.\n",
        "\n",
        "df[\"Salary Estimate\"] = df[\"Salary Estimate\"].replace(\"-1\",np.nan)\n",
        "df = df.dropna()"
      ]
    },
    {
      "cell_type": "code",
      "execution_count": 7,
      "id": "fzmO3VrQPXSM",
      "metadata": {
        "id": "fzmO3VrQPXSM"
      },
      "outputs": [],
      "source": [
        "#Resetting the index.\n",
        "df = df.reset_index()"
      ]
    },
    {
      "cell_type": "code",
      "execution_count": 8,
      "id": "JwVgv6b2MjN1",
      "metadata": {
        "id": "JwVgv6b2MjN1"
      },
      "outputs": [],
      "source": [
        "#Next we separate the hourly salary and employer provided salary from the Salary estimate Column, to be used later\n",
        "df[\"Hourly\"]= df[\"Salary Estimate\"].apply(lambda x: 1 if \"per hour\" in x.lower() else 0)\n",
        "df[\"Employer provided\"]= df[\"Salary Estimate\"].apply(lambda x: 1 if \"employer provided\" in x.lower() else 0)"
      ]
    },
    {
      "cell_type": "code",
      "execution_count": 9,
      "id": "e86191c0",
      "metadata": {
        "id": "e86191c0"
      },
      "outputs": [],
      "source": [
        "# Lets correct Salary Estimate column\n",
        "# First try to remove the source of salary\n",
        "salary = df[\"Salary Estimate\"].apply(lambda x: x.split(\"(\")[0])"
      ]
    },
    {
      "cell_type": "code",
      "execution_count": 10,
      "id": "SWkpGVijEzfV",
      "metadata": {
        "colab": {
          "base_uri": "https://localhost:8080/"
        },
        "id": "SWkpGVijEzfV",
        "outputId": "7b96d6ac-d719-4a6c-a3e9-0238db514d69"
      },
      "outputs": [
        {
          "data": {
            "text/plain": [
              "0       $53K-$91K \n",
              "1      $63K-$112K \n",
              "2       $80K-$90K \n",
              "3       $56K-$97K \n",
              "4      $86K-$143K \n",
              "          ...     \n",
              "737    $58K-$111K \n",
              "738    $72K-$133K \n",
              "739     $56K-$91K \n",
              "740    $95K-$160K \n",
              "741    $61K-$126K \n",
              "Name: Salary Estimate, Length: 742, dtype: object"
            ]
          },
          "execution_count": 10,
          "metadata": {},
          "output_type": "execute_result"
        }
      ],
      "source": [
        "salary"
      ]
    },
    {
      "cell_type": "code",
      "execution_count": 11,
      "id": "DP5emFyvE0vf",
      "metadata": {
        "id": "DP5emFyvE0vf"
      },
      "outputs": [],
      "source": [
        "#                             OR\n",
        "#salary = df[\"Salary Estimate\"].str.split(\"(\",1,expand=True)\n",
        "#salary[0]"
      ]
    },
    {
      "cell_type": "code",
      "execution_count": 12,
      "id": "Aw-AVnzEF7kc",
      "metadata": {
        "id": "Aw-AVnzEF7kc"
      },
      "outputs": [
        {
          "name": "stderr",
          "output_type": "stream",
          "text": [
            "C:\\Users\\Sirikit Joshi\\AppData\\Local\\Temp\\ipykernel_3816\\3086265284.py:3: FutureWarning: The default value of regex will change from True to False in a future version. In addition, single character regular expressions will *not* be treated as literal strings when regex=True.\n",
            "  salary = salary.str.replace(\"$\",\"\")\n"
          ]
        }
      ],
      "source": [
        "#Now, we remove the K, $ sign, per hour and employer provided salary strings\n",
        "salary = salary.str.replace(\"K\",\"\")\n",
        "salary = salary.str.replace(\"$\",\"\")"
      ]
    },
    {
      "cell_type": "code",
      "execution_count": 13,
      "id": "4kNT86TWGaA7",
      "metadata": {
        "id": "4kNT86TWGaA7"
      },
      "outputs": [],
      "source": [
        "salary = salary.apply(lambda x: x.lower().replace(\"per hour\",\"\"))\n",
        "salary = salary.apply(lambda x: x.lower().replace(\"employer provided salary:\",\"\"))\n"
      ]
    },
    {
      "cell_type": "code",
      "execution_count": 14,
      "id": "s1Kc9E8KNjyG",
      "metadata": {
        "colab": {
          "base_uri": "https://localhost:8080/"
        },
        "id": "s1Kc9E8KNjyG",
        "outputId": "f21c4962-c839-42bf-a6f5-0c772a9f6ca5"
      },
      "outputs": [
        {
          "data": {
            "text/plain": [
              "0       53-91 \n",
              "1      63-112 \n",
              "2       80-90 \n",
              "3       56-97 \n",
              "4      86-143 \n",
              "        ...   \n",
              "737    58-111 \n",
              "738    72-133 \n",
              "739     56-91 \n",
              "740    95-160 \n",
              "741    61-126 \n",
              "Name: Salary Estimate, Length: 742, dtype: object"
            ]
          },
          "execution_count": 14,
          "metadata": {},
          "output_type": "execute_result"
        }
      ],
      "source": [
        "salary"
      ]
    },
    {
      "cell_type": "code",
      "execution_count": 15,
      "id": "DAvLQU1mTjf3",
      "metadata": {
        "colab": {
          "base_uri": "https://localhost:8080/",
          "height": 424
        },
        "id": "DAvLQU1mTjf3",
        "outputId": "5e65fcce-584a-49fb-da12-b536410de779"
      },
      "outputs": [
        {
          "data": {
            "text/html": [
              "<div>\n",
              "<style scoped>\n",
              "    .dataframe tbody tr th:only-of-type {\n",
              "        vertical-align: middle;\n",
              "    }\n",
              "\n",
              "    .dataframe tbody tr th {\n",
              "        vertical-align: top;\n",
              "    }\n",
              "\n",
              "    .dataframe thead th {\n",
              "        text-align: right;\n",
              "    }\n",
              "</style>\n",
              "<table border=\"1\" class=\"dataframe\">\n",
              "  <thead>\n",
              "    <tr style=\"text-align: right;\">\n",
              "      <th></th>\n",
              "      <th>Lower</th>\n",
              "      <th>Upper</th>\n",
              "    </tr>\n",
              "  </thead>\n",
              "  <tbody>\n",
              "    <tr>\n",
              "      <th>0</th>\n",
              "      <td>53</td>\n",
              "      <td>91</td>\n",
              "    </tr>\n",
              "    <tr>\n",
              "      <th>1</th>\n",
              "      <td>63</td>\n",
              "      <td>112</td>\n",
              "    </tr>\n",
              "    <tr>\n",
              "      <th>2</th>\n",
              "      <td>80</td>\n",
              "      <td>90</td>\n",
              "    </tr>\n",
              "    <tr>\n",
              "      <th>3</th>\n",
              "      <td>56</td>\n",
              "      <td>97</td>\n",
              "    </tr>\n",
              "    <tr>\n",
              "      <th>4</th>\n",
              "      <td>86</td>\n",
              "      <td>143</td>\n",
              "    </tr>\n",
              "    <tr>\n",
              "      <th>...</th>\n",
              "      <td>...</td>\n",
              "      <td>...</td>\n",
              "    </tr>\n",
              "    <tr>\n",
              "      <th>737</th>\n",
              "      <td>58</td>\n",
              "      <td>111</td>\n",
              "    </tr>\n",
              "    <tr>\n",
              "      <th>738</th>\n",
              "      <td>72</td>\n",
              "      <td>133</td>\n",
              "    </tr>\n",
              "    <tr>\n",
              "      <th>739</th>\n",
              "      <td>56</td>\n",
              "      <td>91</td>\n",
              "    </tr>\n",
              "    <tr>\n",
              "      <th>740</th>\n",
              "      <td>95</td>\n",
              "      <td>160</td>\n",
              "    </tr>\n",
              "    <tr>\n",
              "      <th>741</th>\n",
              "      <td>61</td>\n",
              "      <td>126</td>\n",
              "    </tr>\n",
              "  </tbody>\n",
              "</table>\n",
              "<p>742 rows × 2 columns</p>\n",
              "</div>"
            ],
            "text/plain": [
              "    Lower Upper\n",
              "0      53   91 \n",
              "1      63  112 \n",
              "2      80   90 \n",
              "3      56   97 \n",
              "4      86  143 \n",
              "..    ...   ...\n",
              "737    58  111 \n",
              "738    72  133 \n",
              "739    56   91 \n",
              "740    95  160 \n",
              "741    61  126 \n",
              "\n",
              "[742 rows x 2 columns]"
            ]
          },
          "execution_count": 15,
          "metadata": {},
          "output_type": "execute_result"
        }
      ],
      "source": [
        "#Here, we split the salary into lower and upper salary\n",
        "sal = salary.str.split(\"-\",1,expand=True).rename(columns=({0:\"Lower\",1:\"Upper\"}))\n",
        "sal"
      ]
    },
    {
      "cell_type": "code",
      "execution_count": 16,
      "id": "KRAnixEZT6l2",
      "metadata": {
        "id": "KRAnixEZT6l2"
      },
      "outputs": [],
      "source": [
        "#Making them numeric and adding into the main data frame df\n",
        "sal.Lower = pd.to_numeric(sal.Lower)\n",
        "sal.Upper = pd.to_numeric(sal.Upper)\n",
        "df[\"Lower Salary\"] = sal.Lower\n",
        "df[\"Upper Salary\"] = sal.Upper"
      ]
    },
    {
      "cell_type": "code",
      "execution_count": 17,
      "id": "-CcLj-9BYCHD",
      "metadata": {
        "id": "-CcLj-9BYCHD"
      },
      "outputs": [],
      "source": [
        "#Now, I convert the hourly rate into a yearly salary. Assuming 52 week year and 40 hour work week, divided by 1000 to convert into K format.\n",
        "df['Lower Salary']= df.apply(lambda x: x['Lower Salary'] if x['Hourly']==0 else (int)(x['Lower Salary']*40*52/1000), axis = 1)\n",
        "df['Upper Salary']= df.apply(lambda x: x['Upper Salary'] if x['Hourly']==0 else (int)(x['Upper Salary']*40*52/1000), axis = 1)"
      ]
    },
    {
      "cell_type": "code",
      "execution_count": 18,
      "id": "y3hiJbwRUPad",
      "metadata": {
        "id": "y3hiJbwRUPad"
      },
      "outputs": [],
      "source": [
        "#Now, We can find the average salary\n",
        "df[\"Avg Salary(K)\"] = (df[\"Lower Salary\"]+df[\"Upper Salary\"])/2"
      ]
    },
    {
      "cell_type": "code",
      "execution_count": 68,
      "id": "18307b31",
      "metadata": {},
      "outputs": [
        {
          "data": {
            "text/plain": [
              "0       72.0\n",
              "1       87.5\n",
              "2       85.0\n",
              "3       76.5\n",
              "4      114.5\n",
              "       ...  \n",
              "737     84.5\n",
              "738    102.5\n",
              "739     73.5\n",
              "740    127.5\n",
              "741     93.5\n",
              "Name: Avg Salary(K), Length: 742, dtype: float64"
            ]
          },
          "execution_count": 68,
          "metadata": {},
          "output_type": "execute_result"
        }
      ],
      "source": [
        "df[\"Avg Salary(K)\"]"
      ]
    },
    {
      "cell_type": "code",
      "execution_count": 19,
      "id": "gveBBRRqb0J4",
      "metadata": {
        "colab": {
          "base_uri": "https://localhost:8080/",
          "height": 214
        },
        "id": "gveBBRRqb0J4",
        "outputId": "fc2579a7-7e7a-4d14-a921-818c15f9d5a6"
      },
      "outputs": [
        {
          "data": {
            "text/html": [
              "<div>\n",
              "<style scoped>\n",
              "    .dataframe tbody tr th:only-of-type {\n",
              "        vertical-align: middle;\n",
              "    }\n",
              "\n",
              "    .dataframe tbody tr th {\n",
              "        vertical-align: top;\n",
              "    }\n",
              "\n",
              "    .dataframe thead th {\n",
              "        text-align: right;\n",
              "    }\n",
              "</style>\n",
              "<table border=\"1\" class=\"dataframe\">\n",
              "  <thead>\n",
              "    <tr style=\"text-align: right;\">\n",
              "      <th></th>\n",
              "      <th>index</th>\n",
              "      <th>Job Title</th>\n",
              "      <th>Salary Estimate</th>\n",
              "      <th>Job Description</th>\n",
              "      <th>Rating</th>\n",
              "      <th>Company Name</th>\n",
              "      <th>Location</th>\n",
              "      <th>Headquarters</th>\n",
              "      <th>Size</th>\n",
              "      <th>Founded</th>\n",
              "      <th>Type of ownership</th>\n",
              "      <th>Industry</th>\n",
              "      <th>Sector</th>\n",
              "      <th>Revenue</th>\n",
              "      <th>Competitors</th>\n",
              "      <th>Hourly</th>\n",
              "      <th>Employer provided</th>\n",
              "      <th>Lower Salary</th>\n",
              "      <th>Upper Salary</th>\n",
              "      <th>Avg Salary(K)</th>\n",
              "    </tr>\n",
              "  </thead>\n",
              "  <tbody>\n",
              "    <tr>\n",
              "      <th>0</th>\n",
              "      <td>0</td>\n",
              "      <td>Data Scientist</td>\n",
              "      <td>$53K-$91K (Glassdoor est.)</td>\n",
              "      <td>Data Scientist\\nLocation: Albuquerque, NM\\nEdu...</td>\n",
              "      <td>3.8</td>\n",
              "      <td>Tecolote Research\\n3.8</td>\n",
              "      <td>Albuquerque, NM</td>\n",
              "      <td>Goleta, CA</td>\n",
              "      <td>501 to 1000 employees</td>\n",
              "      <td>1973</td>\n",
              "      <td>Company - Private</td>\n",
              "      <td>Aerospace &amp; Defense</td>\n",
              "      <td>Aerospace &amp; Defense</td>\n",
              "      <td>$50 to $100 million (USD)</td>\n",
              "      <td>-1</td>\n",
              "      <td>0</td>\n",
              "      <td>0</td>\n",
              "      <td>53</td>\n",
              "      <td>91</td>\n",
              "      <td>72.0</td>\n",
              "    </tr>\n",
              "  </tbody>\n",
              "</table>\n",
              "</div>"
            ],
            "text/plain": [
              "   index       Job Title             Salary Estimate  \\\n",
              "0      0  Data Scientist  $53K-$91K (Glassdoor est.)   \n",
              "\n",
              "                                     Job Description  Rating  \\\n",
              "0  Data Scientist\\nLocation: Albuquerque, NM\\nEdu...     3.8   \n",
              "\n",
              "             Company Name         Location Headquarters  \\\n",
              "0  Tecolote Research\\n3.8  Albuquerque, NM   Goleta, CA   \n",
              "\n",
              "                    Size  Founded  Type of ownership             Industry  \\\n",
              "0  501 to 1000 employees     1973  Company - Private  Aerospace & Defense   \n",
              "\n",
              "                Sector                    Revenue Competitors  Hourly  \\\n",
              "0  Aerospace & Defense  $50 to $100 million (USD)          -1       0   \n",
              "\n",
              "   Employer provided  Lower Salary  Upper Salary  Avg Salary(K)  \n",
              "0                  0            53            91           72.0  "
            ]
          },
          "execution_count": 19,
          "metadata": {},
          "output_type": "execute_result"
        }
      ],
      "source": [
        "df.head(1)"
      ]
    },
    {
      "cell_type": "code",
      "execution_count": 70,
      "id": "1a37a804",
      "metadata": {},
      "outputs": [
        {
          "data": {
            "text/html": [
              "<div>\n",
              "<style scoped>\n",
              "    .dataframe tbody tr th:only-of-type {\n",
              "        vertical-align: middle;\n",
              "    }\n",
              "\n",
              "    .dataframe tbody tr th {\n",
              "        vertical-align: top;\n",
              "    }\n",
              "\n",
              "    .dataframe thead th {\n",
              "        text-align: right;\n",
              "    }\n",
              "</style>\n",
              "<table border=\"1\" class=\"dataframe\">\n",
              "  <thead>\n",
              "    <tr style=\"text-align: right;\">\n",
              "      <th></th>\n",
              "      <th>Rating</th>\n",
              "      <th>Company Name</th>\n",
              "    </tr>\n",
              "  </thead>\n",
              "  <tbody>\n",
              "    <tr>\n",
              "      <th>0</th>\n",
              "      <td>3.8</td>\n",
              "      <td>Tecolote Research\\n3.8</td>\n",
              "    </tr>\n",
              "    <tr>\n",
              "      <th>1</th>\n",
              "      <td>3.4</td>\n",
              "      <td>University of Maryland Medical System\\n3.4</td>\n",
              "    </tr>\n",
              "    <tr>\n",
              "      <th>2</th>\n",
              "      <td>4.8</td>\n",
              "      <td>KnowBe4\\n4.8</td>\n",
              "    </tr>\n",
              "    <tr>\n",
              "      <th>3</th>\n",
              "      <td>3.8</td>\n",
              "      <td>PNNL\\n3.8</td>\n",
              "    </tr>\n",
              "    <tr>\n",
              "      <th>4</th>\n",
              "      <td>2.9</td>\n",
              "      <td>Affinity Solutions\\n2.9</td>\n",
              "    </tr>\n",
              "    <tr>\n",
              "      <th>...</th>\n",
              "      <td>...</td>\n",
              "      <td>...</td>\n",
              "    </tr>\n",
              "    <tr>\n",
              "      <th>737</th>\n",
              "      <td>3.9</td>\n",
              "      <td>GSK\\n3.9</td>\n",
              "    </tr>\n",
              "    <tr>\n",
              "      <th>738</th>\n",
              "      <td>4.4</td>\n",
              "      <td>Eventbrite\\n4.4</td>\n",
              "    </tr>\n",
              "    <tr>\n",
              "      <th>739</th>\n",
              "      <td>2.6</td>\n",
              "      <td>Software Engineering Institute\\n2.6</td>\n",
              "    </tr>\n",
              "    <tr>\n",
              "      <th>740</th>\n",
              "      <td>3.2</td>\n",
              "      <td>Numeric, LLC\\n3.2</td>\n",
              "    </tr>\n",
              "    <tr>\n",
              "      <th>741</th>\n",
              "      <td>3.6</td>\n",
              "      <td>Riverside Research Institute\\n3.6</td>\n",
              "    </tr>\n",
              "  </tbody>\n",
              "</table>\n",
              "<p>742 rows × 2 columns</p>\n",
              "</div>"
            ],
            "text/plain": [
              "     Rating                                Company Name\n",
              "0       3.8                      Tecolote Research\\n3.8\n",
              "1       3.4  University of Maryland Medical System\\n3.4\n",
              "2       4.8                                KnowBe4\\n4.8\n",
              "3       3.8                                   PNNL\\n3.8\n",
              "4       2.9                     Affinity Solutions\\n2.9\n",
              "..      ...                                         ...\n",
              "737     3.9                                    GSK\\n3.9\n",
              "738     4.4                             Eventbrite\\n4.4\n",
              "739     2.6         Software Engineering Institute\\n2.6\n",
              "740     3.2                           Numeric, LLC\\n3.2\n",
              "741     3.6           Riverside Research Institute\\n3.6\n",
              "\n",
              "[742 rows x 2 columns]"
            ]
          },
          "execution_count": 70,
          "metadata": {},
          "output_type": "execute_result"
        }
      ],
      "source": [
        "df[[\"Rating\", \"Company Name\"]]"
      ]
    },
    {
      "cell_type": "markdown",
      "id": "8RCG1EHFnvvR",
      "metadata": {
        "id": "8RCG1EHFnvvR"
      },
      "source": [
        "## 3. Parsing rating out of company text and removing undesired characters."
      ]
    },
    {
      "cell_type": "markdown",
      "id": "Cbc2iYWPokQA",
      "metadata": {
        "id": "Cbc2iYWPokQA"
      },
      "source": [
        "Taking into account that the Company_Name  column has not only the name of the company, but also the information of the ratings, it is necessary to remove ir the latter.\n",
        "\n",
        "Finally, the rating (when exist) has 3 characters (number dot number)\n",
        "So, the next line is telling that when the Rating column has a value greater than zero, the company name will have 3 characters removed."
      ]
    },
    {
      "cell_type": "code",
      "execution_count": 20,
      "id": "R2IAOhbuduZr",
      "metadata": {
        "id": "R2IAOhbuduZr"
      },
      "outputs": [],
      "source": [
        "df['company_txt']= df.apply(lambda x: x['Company Name'] \\\n",
        "    if x['Rating']<0 else x['Company Name'][:-3], axis = 1)"
      ]
    },
    {
      "cell_type": "code",
      "execution_count": 21,
      "id": "BYvj40oVezAb",
      "metadata": {
        "id": "BYvj40oVezAb"
      },
      "outputs": [],
      "source": [
        "#Each cell in the newly made company_txt column has \"\\n\" \n",
        "#characters at the end. We should remove it.\n",
        "df[\"company_txt\"] = df[\"company_txt\"].str[:-1]\n"
      ]
    },
    {
      "cell_type": "code",
      "execution_count": 69,
      "id": "e88fbacd",
      "metadata": {},
      "outputs": [
        {
          "data": {
            "text/plain": [
              "0                          Tecolote Research\n",
              "1      University of Maryland Medical System\n",
              "2                                    KnowBe4\n",
              "3                                       PNNL\n",
              "4                         Affinity Solutions\n",
              "                       ...                  \n",
              "737                                      GSK\n",
              "738                               Eventbrite\n",
              "739           Software Engineering Institute\n",
              "740                             Numeric, LLC\n",
              "741             Riverside Research Institute\n",
              "Name: company_txt, Length: 742, dtype: object"
            ]
          },
          "execution_count": 69,
          "metadata": {},
          "output_type": "execute_result"
        }
      ],
      "source": [
        "df['company_txt']"
      ]
    },
    {
      "cell_type": "markdown",
      "id": "TKScUyN_sOmz",
      "metadata": {
        "id": "TKScUyN_sOmz"
      },
      "source": [
        "## 4. Making a new column for company state and cleaning it."
      ]
    },
    {
      "cell_type": "code",
      "execution_count": 22,
      "id": "2OORsdYisVE5",
      "metadata": {
        "colab": {
          "base_uri": "https://localhost:8080/"
        },
        "id": "2OORsdYisVE5",
        "outputId": "9c045173-bfb5-42f5-815a-080e52c5cf5b"
      },
      "outputs": [
        {
          "data": {
            "text/plain": [
              "0       NM\n",
              "1       MD\n",
              "2       FL\n",
              "3       WA\n",
              "4       NY\n",
              "      ... \n",
              "737     MA\n",
              "738     TN\n",
              "739     PA\n",
              "740     PA\n",
              "741     OH\n",
              "Name: 1, Length: 742, dtype: object"
            ]
          },
          "execution_count": 22,
          "metadata": {},
          "output_type": "execute_result"
        }
      ],
      "source": [
        "job = df[\"Location\"].str.split(\",\",1,expand=True)\n",
        "job[1]"
      ]
    },
    {
      "cell_type": "code",
      "execution_count": 23,
      "id": "YkFBgTb-s3DJ",
      "metadata": {
        "id": "YkFBgTb-s3DJ"
      },
      "outputs": [],
      "source": [
        "#Create a Job Location column in the main dataframe.\n",
        "df[\"Job Location\"] = job[1]"
      ]
    },
    {
      "cell_type": "code",
      "execution_count": 24,
      "id": "aLWjRlOT1QN2",
      "metadata": {
        "colab": {
          "base_uri": "https://localhost:8080/"
        },
        "id": "aLWjRlOT1QN2",
        "outputId": "f29fac50-2cfc-4d2b-c3ed-082c876631c3"
      },
      "outputs": [
        {
          "data": {
            "text/plain": [
              " CA                 151\n",
              " MA                 103\n",
              " NY                  72\n",
              " VA                  41\n",
              " IL                  40\n",
              " MD                  35\n",
              " PA                  33\n",
              " TX                  28\n",
              " WA                  21\n",
              " NC                  21\n",
              " NJ                  17\n",
              " FL                  16\n",
              " OH                  14\n",
              " TN                  13\n",
              " DC                  11\n",
              " CO                  11\n",
              " WI                  10\n",
              " IN                  10\n",
              " UT                  10\n",
              " AZ                   9\n",
              " MO                   9\n",
              " AL                   8\n",
              " GA                   6\n",
              " KY                   6\n",
              " DE                   6\n",
              " MI                   6\n",
              " CT                   5\n",
              " IA                   5\n",
              " LA                   4\n",
              " OR                   4\n",
              " NE                   4\n",
              " NM                   3\n",
              " KS                   3\n",
              " ID                   2\n",
              " MN                   2\n",
              " Los Angeles, CA      1\n",
              " RI                   1\n",
              " SC                   1\n",
              "Name: Job Location, dtype: int64"
            ]
          },
          "execution_count": 24,
          "metadata": {},
          "output_type": "execute_result"
        }
      ],
      "source": [
        "#Lets look at how the job is distributed among states\n",
        "df[\"Job Location\"].value_counts()"
      ]
    },
    {
      "cell_type": "code",
      "execution_count": 25,
      "id": "jlkMM0pTXDKg",
      "metadata": {
        "colab": {
          "base_uri": "https://localhost:8080/"
        },
        "id": "jlkMM0pTXDKg",
        "outputId": "503b901a-a01b-4546-813c-d552070a2631"
      },
      "outputs": [
        {
          "data": {
            "text/plain": [
              "3"
            ]
          },
          "execution_count": 25,
          "metadata": {},
          "output_type": "execute_result"
        }
      ],
      "source": [
        "#Lets check for any spaces before the State codes\n",
        "len(df[\"Job Location\"][0])\n",
        "#We see that the length is 3 but it should be 2"
      ]
    },
    {
      "cell_type": "code",
      "execution_count": 26,
      "id": "NEupM9tZWsso",
      "metadata": {
        "id": "NEupM9tZWsso"
      },
      "outputs": [],
      "source": [
        "#Here, we removed the space at the end of the state\n",
        "df[\"Job Location\"] = df[\"Job Location\"].str[1:3]"
      ]
    },
    {
      "cell_type": "code",
      "execution_count": 27,
      "id": "gdgHlr5B10ge",
      "metadata": {
        "id": "gdgHlr5B10ge"
      },
      "outputs": [],
      "source": [
        "#Here, we see that there is an error in last 2rd row, Los angeles should not be there, we should remove it.\n",
        "#In step before this, we made the Los Angeles, CA into Lo, so we convert Lo to CA\n",
        "df[\"Job Location\"] = df[\"Job Location\"].replace(\"Lo\",\"CA\")\n",
        "\n"
      ]
    },
    {
      "cell_type": "code",
      "execution_count": 28,
      "id": "PrkGhdZY2Ix3",
      "metadata": {
        "colab": {
          "base_uri": "https://localhost:8080/"
        },
        "id": "PrkGhdZY2Ix3",
        "outputId": "80ce9bbf-a629-40b9-f4aa-48feaf27d5ca"
      },
      "outputs": [
        {
          "data": {
            "text/plain": [
              "CA    152\n",
              "MA    103\n",
              "NY     72\n",
              "VA     41\n",
              "IL     40\n",
              "MD     35\n",
              "PA     33\n",
              "TX     28\n",
              "NC     21\n",
              "WA     21\n",
              "NJ     17\n",
              "FL     16\n",
              "OH     14\n",
              "TN     13\n",
              "DC     11\n",
              "CO     11\n",
              "WI     10\n",
              "UT     10\n",
              "IN     10\n",
              "AZ      9\n",
              "MO      9\n",
              "AL      8\n",
              "GA      6\n",
              "DE      6\n",
              "KY      6\n",
              "MI      6\n",
              "CT      5\n",
              "IA      5\n",
              "LA      4\n",
              "OR      4\n",
              "NE      4\n",
              "NM      3\n",
              "KS      3\n",
              "ID      2\n",
              "MN      2\n",
              "RI      1\n",
              "SC      1\n",
              "Name: Job Location, dtype: int64"
            ]
          },
          "execution_count": 28,
          "metadata": {},
          "output_type": "execute_result"
        }
      ],
      "source": [
        "#Lets check the counts again\n",
        "df[\"Job Location\"].value_counts()"
      ]
    },
    {
      "cell_type": "markdown",
      "id": "9tIAOIJsiQzh",
      "metadata": {
        "id": "9tIAOIJsiQzh"
      },
      "source": [
        "Notice, how the CA state now has 152 counts instead of 151 because Los Angeles city is in CA (thats what we did above)."
      ]
    },
    {
      "cell_type": "markdown",
      "id": "C1h9NbimYw-3",
      "metadata": {
        "id": "C1h9NbimYw-3"
      },
      "source": [
        "List of U.S. States with Abbreviations: https://www23.statcan.gc.ca/imdb/p3VD.pl?Function=getVD&TVD=53971"
      ]
    },
    {
      "cell_type": "markdown",
      "id": "_I-njZnBZJDE",
      "metadata": {
        "id": "_I-njZnBZJDE"
      },
      "source": [
        "## 5. Age of the company"
      ]
    },
    {
      "cell_type": "code",
      "execution_count": 29,
      "id": "III5vkkHXvOG",
      "metadata": {
        "id": "III5vkkHXvOG"
      },
      "outputs": [],
      "source": [
        "# We need to transform the Founded column into the age of the company.\n",
        "df[\"Age\"] = df[\"Founded\"].apply(lambda x: x if x<1 else 2021 - x)\n",
        "#Age of the company as of now (2021)"
      ]
    },
    {
      "cell_type": "code",
      "execution_count": 71,
      "id": "ec448cee",
      "metadata": {},
      "outputs": [
        {
          "data": {
            "text/plain": [
              "0       48\n",
              "1       37\n",
              "2       11\n",
              "3       56\n",
              "4       23\n",
              "      ... \n",
              "737    191\n",
              "738     15\n",
              "739     37\n",
              "740     -1\n",
              "741     54\n",
              "Name: Age, Length: 742, dtype: int64"
            ]
          },
          "execution_count": 71,
          "metadata": {},
          "output_type": "execute_result"
        }
      ],
      "source": [
        "df[\"Age\"]"
      ]
    },
    {
      "cell_type": "code",
      "execution_count": 30,
      "id": "kAAMXTW4ZhsU",
      "metadata": {
        "colab": {
          "base_uri": "https://localhost:8080/"
        },
        "id": "kAAMXTW4ZhsU",
        "outputId": "f2bf1770-2e3b-4a0f-b3bc-128a0ff868db"
      },
      "outputs": [
        {
          "data": {
            "text/plain": [
              "0    48\n",
              "1    37\n",
              "2    11\n",
              "Name: Age, dtype: int64"
            ]
          },
          "execution_count": 30,
          "metadata": {},
          "output_type": "execute_result"
        }
      ],
      "source": [
        "df[\"Age\"].head(3)"
      ]
    },
    {
      "cell_type": "markdown",
      "id": "WE8BIh1piAtN",
      "metadata": {
        "id": "WE8BIh1piAtN"
      },
      "source": [
        "## 6. Extracting essential skills from the Job description column"
      ]
    },
    {
      "cell_type": "code",
      "execution_count": 31,
      "id": "IjGoZk77imKm",
      "metadata": {
        "id": "IjGoZk77imKm"
      },
      "outputs": [],
      "source": [
        "# Lets extract the skills(Python,r,mongo,spark,julia,sql,sas,excel etc) the company wants in a Data Scientist\n",
        "\n",
        "# Python \n",
        "df[\"Python\"] = df[\"Job Description\"].apply(lambda x: 1 if \"python\" in x.lower() else 0)"
      ]
    },
    {
      "cell_type": "code",
      "execution_count": 32,
      "id": "qdEHND8zkFe7",
      "metadata": {
        "colab": {
          "base_uri": "https://localhost:8080/"
        },
        "id": "qdEHND8zkFe7",
        "outputId": "8f8ea3fb-b36e-4f2d-a61a-b4cb1d21ab47"
      },
      "outputs": [
        {
          "data": {
            "text/plain": [
              "1    392\n",
              "0    350\n",
              "Name: Python, dtype: int64"
            ]
          },
          "execution_count": 32,
          "metadata": {},
          "output_type": "execute_result"
        }
      ],
      "source": [
        "df.Python.value_counts()"
      ]
    },
    {
      "cell_type": "code",
      "execution_count": 33,
      "id": "W3ZTE-QWkRel",
      "metadata": {
        "colab": {
          "base_uri": "https://localhost:8080/"
        },
        "id": "W3ZTE-QWkRel",
        "outputId": "c4389624-e872-4b7d-8a8c-68fcfc46682b"
      },
      "outputs": [
        {
          "data": {
            "text/plain": [
              "0    740\n",
              "1      2\n",
              "Name: R-studio, dtype: int64"
            ]
          },
          "execution_count": 33,
          "metadata": {},
          "output_type": "execute_result"
        }
      ],
      "source": [
        "# r-studio\n",
        "df[\"R-studio\"] = df[\"Job Description\"].apply(lambda x: 1 if \"r-studio\" in x.lower() or \"r studio\" in x.lower() else 0)\n",
        "df[\"R-studio\"].value_counts()"
      ]
    },
    {
      "cell_type": "markdown",
      "id": "R9DHR41tlbEF",
      "metadata": {
        "id": "R9DHR41tlbEF"
      },
      "source": [
        "It looks like it is too small to make any insights from this. We can just delete this column from the database"
      ]
    },
    {
      "cell_type": "code",
      "execution_count": 34,
      "id": "TI4O7agak-I3",
      "metadata": {
        "id": "TI4O7agak-I3"
      },
      "outputs": [],
      "source": [
        "df = df.drop(\"R-studio\",axis=1)"
      ]
    },
    {
      "cell_type": "code",
      "execution_count": 35,
      "id": "zcpJ97xHlxvC",
      "metadata": {
        "colab": {
          "base_uri": "https://localhost:8080/"
        },
        "id": "zcpJ97xHlxvC",
        "outputId": "19f234ce-4579-4ec6-ea54-cedb5e00dcef"
      },
      "outputs": [
        {
          "data": {
            "text/plain": [
              "0    575\n",
              "1    167\n",
              "Name: spark, dtype: int64"
            ]
          },
          "execution_count": 35,
          "metadata": {},
          "output_type": "execute_result"
        }
      ],
      "source": [
        "#spark\n",
        "df['spark']  = df['Job Description'].apply(lambda x: 1 if 'spark' in x.lower() else 0)\n",
        "df.spark.value_counts()"
      ]
    },
    {
      "cell_type": "code",
      "execution_count": 36,
      "id": "CTbhA_N4mhQ8",
      "metadata": {
        "colab": {
          "base_uri": "https://localhost:8080/"
        },
        "id": "CTbhA_N4mhQ8",
        "outputId": "9a70663c-f1cb-4005-8db3-60d4bdb098a9"
      },
      "outputs": [
        {
          "data": {
            "text/plain": [
              "0    566\n",
              "1    176\n",
              "Name: aws, dtype: int64"
            ]
          },
          "execution_count": 36,
          "metadata": {},
          "output_type": "execute_result"
        }
      ],
      "source": [
        "\n",
        "#aws\n",
        "df['aws']  = df['Job Description'].apply(lambda x: 1 if 'aws' in x.lower() else 0)\n",
        "df.aws.value_counts()"
      ]
    },
    {
      "cell_type": "code",
      "execution_count": 37,
      "id": "LDJB1p37mhPD",
      "metadata": {
        "colab": {
          "base_uri": "https://localhost:8080/"
        },
        "id": "LDJB1p37mhPD",
        "outputId": "3ed1d808-78a5-4d6d-fe98-8cfb7ffdc896"
      },
      "outputs": [
        {
          "data": {
            "text/plain": [
              "1    388\n",
              "0    354\n",
              "Name: excel, dtype: int64"
            ]
          },
          "execution_count": 37,
          "metadata": {},
          "output_type": "execute_result"
        }
      ],
      "source": [
        "#excel\n",
        "df['excel']  = df['Job Description'].apply(lambda x: 1 if 'excel' in x.lower() else 0)\n",
        "df.excel.value_counts()"
      ]
    },
    {
      "cell_type": "code",
      "execution_count": 38,
      "id": "ePajPxu7mhNU",
      "metadata": {
        "colab": {
          "base_uri": "https://localhost:8080/"
        },
        "id": "ePajPxu7mhNU",
        "outputId": "acac3d54-5232-4892-e452-97c081fa7410"
      },
      "outputs": [
        {
          "data": {
            "text/plain": [
              "1    380\n",
              "0    362\n",
              "Name: sql, dtype: int64"
            ]
          },
          "execution_count": 38,
          "metadata": {},
          "output_type": "execute_result"
        }
      ],
      "source": [
        "#sql\n",
        "df['sql']  = df['Job Description'].apply(lambda x: 1 if 'sql' in x.lower() else 0)\n",
        "df.sql.value_counts()"
      ]
    },
    {
      "cell_type": "code",
      "execution_count": 39,
      "id": "R-cwpMuMmhLp",
      "metadata": {
        "colab": {
          "base_uri": "https://localhost:8080/"
        },
        "id": "R-cwpMuMmhLp",
        "outputId": "19cc9a40-fb4c-4d56-c8da-1a1f0108b2d1"
      },
      "outputs": [
        {
          "data": {
            "text/plain": [
              "0    676\n",
              "1     66\n",
              "Name: sas, dtype: int64"
            ]
          },
          "execution_count": 39,
          "metadata": {},
          "output_type": "execute_result"
        }
      ],
      "source": [
        "#sas \n",
        "df['sas']  = df['Job Description'].apply(lambda x: 1 if (' sas ' in x.lower() or ' sas,' in x.lower() or ' sas.' in x.lower())  else 0)\n",
        "df.sas.value_counts()"
      ]
    },
    {
      "cell_type": "code",
      "execution_count": 40,
      "id": "XYXZ-gnlmhIL",
      "metadata": {
        "colab": {
          "base_uri": "https://localhost:8080/"
        },
        "id": "XYXZ-gnlmhIL",
        "outputId": "8d5999e4-2549-4b31-8fac-28842ad8c8cc"
      },
      "outputs": [
        {
          "data": {
            "text/plain": [
              "0    742\n",
              "Name: julia, dtype: int64"
            ]
          },
          "execution_count": 40,
          "metadata": {},
          "output_type": "execute_result"
        }
      ],
      "source": [
        "#julia\n",
        "df['julia']  = df['Job Description'].apply(lambda x: 1 if 'julia' in x.lower() else 0)\n",
        "df.julia.value_counts()"
      ]
    },
    {
      "cell_type": "markdown",
      "id": "IqMp68fNnwlt",
      "metadata": {
        "id": "IqMp68fNnwlt"
      },
      "source": [
        "Zero requirement for Julia in any company. So, we drop this column."
      ]
    },
    {
      "cell_type": "code",
      "execution_count": 41,
      "id": "em_ZsqLrn1vP",
      "metadata": {
        "id": "em_ZsqLrn1vP"
      },
      "outputs": [],
      "source": [
        "df = df.drop(\"julia\",axis=1)"
      ]
    },
    {
      "cell_type": "code",
      "execution_count": 42,
      "id": "Z-5zkrqfmhFj",
      "metadata": {
        "colab": {
          "base_uri": "https://localhost:8080/"
        },
        "id": "Z-5zkrqfmhFj",
        "outputId": "79c7e38c-1eae-4943-c5b4-2fbe4cc044d8"
      },
      "outputs": [
        {
          "data": {
            "text/plain": [
              "0    713\n",
              "1     29\n",
              "Name: keras, dtype: int64"
            ]
          },
          "execution_count": 42,
          "metadata": {},
          "output_type": "execute_result"
        }
      ],
      "source": [
        "#keras\n",
        "df['keras']  = df['Job Description'].apply(lambda x: 1 if 'keras' in x.lower() else 0)\n",
        "df.keras.value_counts()"
      ]
    },
    {
      "cell_type": "code",
      "execution_count": 43,
      "id": "09J0LvY5mhDS",
      "metadata": {
        "colab": {
          "base_uri": "https://localhost:8080/"
        },
        "id": "09J0LvY5mhDS",
        "outputId": "1e422023-7fb2-44f7-98ae-b33e4d0860ec"
      },
      "outputs": [
        {
          "data": {
            "text/plain": [
              "0    703\n",
              "1     39\n",
              "Name: pytorch, dtype: int64"
            ]
          },
          "execution_count": 43,
          "metadata": {},
          "output_type": "execute_result"
        }
      ],
      "source": [
        "#pytorch\n",
        "df['pytorch']  = df['Job Description'].apply(lambda x: 1 if 'pytorch' in x.lower() else 0)\n",
        "df.pytorch.value_counts()"
      ]
    },
    {
      "cell_type": "code",
      "execution_count": 44,
      "id": "kXaz_FT5mhA6",
      "metadata": {
        "colab": {
          "base_uri": "https://localhost:8080/"
        },
        "id": "kXaz_FT5mhA6",
        "outputId": "b64698f3-d1ad-40fe-b476-7b093efb5177"
      },
      "outputs": [
        {
          "data": {
            "text/plain": [
              "0    688\n",
              "1     54\n",
              "Name: scikit, dtype: int64"
            ]
          },
          "execution_count": 44,
          "metadata": {},
          "output_type": "execute_result"
        }
      ],
      "source": [
        "#scikit-learn\n",
        "df['scikit']  = df['Job Description'].apply(lambda x: 1 if 'scikit' in x.lower() else 0)\n",
        "df.scikit.value_counts()"
      ]
    },
    {
      "cell_type": "code",
      "execution_count": 45,
      "id": "840VvNgwmg86",
      "metadata": {
        "colab": {
          "base_uri": "https://localhost:8080/"
        },
        "id": "840VvNgwmg86",
        "outputId": "6580976b-7827-4b67-9d76-70f9c9fd2f31"
      },
      "outputs": [
        {
          "data": {
            "text/plain": [
              "0    670\n",
              "1     72\n",
              "Name: tensor, dtype: int64"
            ]
          },
          "execution_count": 45,
          "metadata": {},
          "output_type": "execute_result"
        }
      ],
      "source": [
        "#tensor\n",
        "df['tensor']  = df['Job Description'].apply(lambda x: 1 if 'tensor' in x.lower() else 0)\n",
        "df.tensor.value_counts()"
      ]
    },
    {
      "cell_type": "code",
      "execution_count": 46,
      "id": "6mVeabvgmg6z",
      "metadata": {
        "colab": {
          "base_uri": "https://localhost:8080/"
        },
        "id": "6mVeabvgmg6z",
        "outputId": "95d3c62b-27c3-40ec-d763-d50b18aa7ba7"
      },
      "outputs": [
        {
          "data": {
            "text/plain": [
              "0    739\n",
              "1      3\n",
              "Name: selenium, dtype: int64"
            ]
          },
          "execution_count": 46,
          "metadata": {},
          "output_type": "execute_result"
        }
      ],
      "source": [
        "#selenium\n",
        "df['selenium']  = df['Job Description'].apply(lambda x: 1 if 'selenium' in x.lower() else 0)\n",
        "df.selenium.value_counts()"
      ]
    },
    {
      "cell_type": "code",
      "execution_count": 47,
      "id": "CjA7UoQooD2m",
      "metadata": {
        "id": "CjA7UoQooD2m"
      },
      "outputs": [],
      "source": [
        "#Zero requirement for Julia in any company. So, we drop this column.\n",
        "df = df.drop(\"selenium\",axis=1)"
      ]
    },
    {
      "cell_type": "code",
      "execution_count": 48,
      "id": "wkzqH5xAmg2C",
      "metadata": {
        "colab": {
          "base_uri": "https://localhost:8080/"
        },
        "id": "wkzqH5xAmg2C",
        "outputId": "77f26349-3c9c-4b75-f7ae-a6582b30ac67"
      },
      "outputs": [
        {
          "data": {
            "text/plain": [
              "0    618\n",
              "1    124\n",
              "Name: hadoop, dtype: int64"
            ]
          },
          "execution_count": 48,
          "metadata": {},
          "output_type": "execute_result"
        }
      ],
      "source": [
        "#hadoop\n",
        "df['hadoop']  = df['Job Description'].apply(lambda x: 1 if 'hadoop' in x.lower() else 0)\n",
        "df.hadoop.value_counts()"
      ]
    },
    {
      "cell_type": "code",
      "execution_count": 49,
      "id": "MWAlRlXzmgyr",
      "metadata": {
        "colab": {
          "base_uri": "https://localhost:8080/"
        },
        "id": "MWAlRlXzmgyr",
        "outputId": "34831bc5-650a-4f77-f598-abd952f27613"
      },
      "outputs": [
        {
          "data": {
            "text/plain": [
              "0    594\n",
              "1    148\n",
              "Name: tableau, dtype: int64"
            ]
          },
          "execution_count": 49,
          "metadata": {},
          "output_type": "execute_result"
        }
      ],
      "source": [
        "#tableau\n",
        "df['tableau']  = df['Job Description'].apply(lambda x: 1 if 'tableau' in x.lower() else 0)\n",
        "df.tableau.value_counts()"
      ]
    },
    {
      "cell_type": "code",
      "execution_count": 50,
      "id": "lXJ-fqUAmgui",
      "metadata": {
        "colab": {
          "base_uri": "https://localhost:8080/"
        },
        "id": "lXJ-fqUAmgui",
        "outputId": "e398e8d1-364b-436f-e265-05c56789915f"
      },
      "outputs": [
        {
          "data": {
            "text/plain": [
              "0    686\n",
              "1     56\n",
              "Name: bi, dtype: int64"
            ]
          },
          "execution_count": 50,
          "metadata": {},
          "output_type": "execute_result"
        }
      ],
      "source": [
        "#power bi\n",
        "df['bi']  = df['Job Description'].apply(lambda x: 1 if ('power bi' in x.lower() or 'powerbi' in x.lower()) else 0)\n",
        "df.bi.value_counts()"
      ]
    },
    {
      "cell_type": "code",
      "execution_count": 51,
      "id": "9gAsl3gymgsi",
      "metadata": {
        "colab": {
          "base_uri": "https://localhost:8080/"
        },
        "id": "9gAsl3gymgsi",
        "outputId": "1fad2357-ae44-440f-cd62-ba0e08a82558"
      },
      "outputs": [
        {
          "data": {
            "text/plain": [
              "0    732\n",
              "1     10\n",
              "Name: flink, dtype: int64"
            ]
          },
          "execution_count": 51,
          "metadata": {},
          "output_type": "execute_result"
        }
      ],
      "source": [
        "#apache flink\n",
        "df['flink']  = df['Job Description'].apply(lambda x: 1 if 'flink' in x.lower() else 0)\n",
        "df.flink.value_counts()"
      ]
    },
    {
      "cell_type": "code",
      "execution_count": 52,
      "id": "3ndBc_UGnK0t",
      "metadata": {
        "colab": {
          "base_uri": "https://localhost:8080/"
        },
        "id": "3ndBc_UGnK0t",
        "outputId": "4badb78b-53c3-48bf-c049-f498a3099e85"
      },
      "outputs": [
        {
          "data": {
            "text/plain": [
              "0    705\n",
              "1     37\n",
              "Name: mongo, dtype: int64"
            ]
          },
          "execution_count": 52,
          "metadata": {},
          "output_type": "execute_result"
        }
      ],
      "source": [
        "#mongo db\n",
        "df['mongo']  = df['Job Description'].apply(lambda x: 1 if 'mongo' in x.lower() else 0)\n",
        "df.mongo.value_counts()"
      ]
    },
    {
      "cell_type": "code",
      "execution_count": 53,
      "id": "K_3MtletnKrw",
      "metadata": {
        "colab": {
          "base_uri": "https://localhost:8080/"
        },
        "id": "K_3MtletnKrw",
        "outputId": "f94279d9-b63a-43ac-b52b-7195e3f1212b"
      },
      "outputs": [
        {
          "data": {
            "text/plain": [
              "0    728\n",
              "1     14\n",
              "Name: google_an, dtype: int64"
            ]
          },
          "execution_count": 53,
          "metadata": {},
          "output_type": "execute_result"
        }
      ],
      "source": [
        "#google analytics\n",
        "df['google_an']  = df['Job Description'].apply(lambda x: 1 if 'google analytics' in x.lower() else 0)\n",
        "df.google_an.value_counts()"
      ]
    },
    {
      "cell_type": "code",
      "execution_count": 54,
      "id": "Usz5cPNLnKn-",
      "metadata": {
        "colab": {
          "base_uri": "https://localhost:8080/",
          "height": 214
        },
        "id": "Usz5cPNLnKn-",
        "outputId": "5316f6a7-7eec-4702-8b6e-cffd6c1aa11a"
      },
      "outputs": [
        {
          "data": {
            "text/html": [
              "<div>\n",
              "<style scoped>\n",
              "    .dataframe tbody tr th:only-of-type {\n",
              "        vertical-align: middle;\n",
              "    }\n",
              "\n",
              "    .dataframe tbody tr th {\n",
              "        vertical-align: top;\n",
              "    }\n",
              "\n",
              "    .dataframe thead th {\n",
              "        text-align: right;\n",
              "    }\n",
              "</style>\n",
              "<table border=\"1\" class=\"dataframe\">\n",
              "  <thead>\n",
              "    <tr style=\"text-align: right;\">\n",
              "      <th></th>\n",
              "      <th>index</th>\n",
              "      <th>Job Title</th>\n",
              "      <th>Salary Estimate</th>\n",
              "      <th>Job Description</th>\n",
              "      <th>Rating</th>\n",
              "      <th>Company Name</th>\n",
              "      <th>Location</th>\n",
              "      <th>Headquarters</th>\n",
              "      <th>Size</th>\n",
              "      <th>Founded</th>\n",
              "      <th>...</th>\n",
              "      <th>keras</th>\n",
              "      <th>pytorch</th>\n",
              "      <th>scikit</th>\n",
              "      <th>tensor</th>\n",
              "      <th>hadoop</th>\n",
              "      <th>tableau</th>\n",
              "      <th>bi</th>\n",
              "      <th>flink</th>\n",
              "      <th>mongo</th>\n",
              "      <th>google_an</th>\n",
              "    </tr>\n",
              "  </thead>\n",
              "  <tbody>\n",
              "    <tr>\n",
              "      <th>0</th>\n",
              "      <td>0</td>\n",
              "      <td>Data Scientist</td>\n",
              "      <td>$53K-$91K (Glassdoor est.)</td>\n",
              "      <td>Data Scientist\\nLocation: Albuquerque, NM\\nEdu...</td>\n",
              "      <td>3.8</td>\n",
              "      <td>Tecolote Research\\n3.8</td>\n",
              "      <td>Albuquerque, NM</td>\n",
              "      <td>Goleta, CA</td>\n",
              "      <td>501 to 1000 employees</td>\n",
              "      <td>1973</td>\n",
              "      <td>...</td>\n",
              "      <td>0</td>\n",
              "      <td>0</td>\n",
              "      <td>0</td>\n",
              "      <td>0</td>\n",
              "      <td>0</td>\n",
              "      <td>1</td>\n",
              "      <td>1</td>\n",
              "      <td>0</td>\n",
              "      <td>0</td>\n",
              "      <td>0</td>\n",
              "    </tr>\n",
              "  </tbody>\n",
              "</table>\n",
              "<p>1 rows × 39 columns</p>\n",
              "</div>"
            ],
            "text/plain": [
              "   index       Job Title             Salary Estimate  \\\n",
              "0      0  Data Scientist  $53K-$91K (Glassdoor est.)   \n",
              "\n",
              "                                     Job Description  Rating  \\\n",
              "0  Data Scientist\\nLocation: Albuquerque, NM\\nEdu...     3.8   \n",
              "\n",
              "             Company Name         Location Headquarters  \\\n",
              "0  Tecolote Research\\n3.8  Albuquerque, NM   Goleta, CA   \n",
              "\n",
              "                    Size  Founded  ... keras pytorch scikit tensor hadoop  \\\n",
              "0  501 to 1000 employees     1973  ...     0       0      0      0      0   \n",
              "\n",
              "   tableau  bi  flink  mongo  google_an  \n",
              "0        1   1      0      0          0  \n",
              "\n",
              "[1 rows x 39 columns]"
            ]
          },
          "execution_count": 54,
          "metadata": {},
          "output_type": "execute_result"
        }
      ],
      "source": [
        "df.head(1)"
      ]
    },
    {
      "cell_type": "code",
      "execution_count": 86,
      "id": "80ad04a3",
      "metadata": {},
      "outputs": [
        {
          "data": {
            "text/html": [
              "<div>\n",
              "<style scoped>\n",
              "    .dataframe tbody tr th:only-of-type {\n",
              "        vertical-align: middle;\n",
              "    }\n",
              "\n",
              "    .dataframe tbody tr th {\n",
              "        vertical-align: top;\n",
              "    }\n",
              "\n",
              "    .dataframe thead th {\n",
              "        text-align: right;\n",
              "    }\n",
              "</style>\n",
              "<table border=\"1\" class=\"dataframe\">\n",
              "  <thead>\n",
              "    <tr style=\"text-align: right;\">\n",
              "      <th></th>\n",
              "      <th>Python</th>\n",
              "      <th>spark</th>\n",
              "      <th>aws</th>\n",
              "      <th>excel</th>\n",
              "      <th>sql</th>\n",
              "      <th>sas</th>\n",
              "      <th>keras</th>\n",
              "      <th>pytorch</th>\n",
              "      <th>scikit</th>\n",
              "      <th>tensor</th>\n",
              "      <th>hadoop</th>\n",
              "      <th>tableau</th>\n",
              "      <th>bi</th>\n",
              "      <th>flink</th>\n",
              "      <th>mongo</th>\n",
              "      <th>google_an</th>\n",
              "    </tr>\n",
              "  </thead>\n",
              "  <tbody>\n",
              "    <tr>\n",
              "      <th>0</th>\n",
              "      <td>1</td>\n",
              "      <td>0</td>\n",
              "      <td>0</td>\n",
              "      <td>1</td>\n",
              "      <td>0</td>\n",
              "      <td>1</td>\n",
              "      <td>0</td>\n",
              "      <td>0</td>\n",
              "      <td>0</td>\n",
              "      <td>0</td>\n",
              "      <td>0</td>\n",
              "      <td>1</td>\n",
              "      <td>1</td>\n",
              "      <td>0</td>\n",
              "      <td>0</td>\n",
              "      <td>0</td>\n",
              "    </tr>\n",
              "    <tr>\n",
              "      <th>1</th>\n",
              "      <td>1</td>\n",
              "      <td>0</td>\n",
              "      <td>0</td>\n",
              "      <td>0</td>\n",
              "      <td>0</td>\n",
              "      <td>0</td>\n",
              "      <td>0</td>\n",
              "      <td>0</td>\n",
              "      <td>0</td>\n",
              "      <td>0</td>\n",
              "      <td>0</td>\n",
              "      <td>0</td>\n",
              "      <td>0</td>\n",
              "      <td>0</td>\n",
              "      <td>0</td>\n",
              "      <td>0</td>\n",
              "    </tr>\n",
              "    <tr>\n",
              "      <th>2</th>\n",
              "      <td>1</td>\n",
              "      <td>1</td>\n",
              "      <td>0</td>\n",
              "      <td>1</td>\n",
              "      <td>1</td>\n",
              "      <td>1</td>\n",
              "      <td>0</td>\n",
              "      <td>0</td>\n",
              "      <td>0</td>\n",
              "      <td>0</td>\n",
              "      <td>0</td>\n",
              "      <td>0</td>\n",
              "      <td>0</td>\n",
              "      <td>0</td>\n",
              "      <td>0</td>\n",
              "      <td>0</td>\n",
              "    </tr>\n",
              "    <tr>\n",
              "      <th>3</th>\n",
              "      <td>1</td>\n",
              "      <td>0</td>\n",
              "      <td>0</td>\n",
              "      <td>0</td>\n",
              "      <td>0</td>\n",
              "      <td>0</td>\n",
              "      <td>0</td>\n",
              "      <td>0</td>\n",
              "      <td>0</td>\n",
              "      <td>0</td>\n",
              "      <td>0</td>\n",
              "      <td>0</td>\n",
              "      <td>0</td>\n",
              "      <td>0</td>\n",
              "      <td>0</td>\n",
              "      <td>0</td>\n",
              "    </tr>\n",
              "    <tr>\n",
              "      <th>4</th>\n",
              "      <td>1</td>\n",
              "      <td>0</td>\n",
              "      <td>0</td>\n",
              "      <td>1</td>\n",
              "      <td>1</td>\n",
              "      <td>1</td>\n",
              "      <td>0</td>\n",
              "      <td>0</td>\n",
              "      <td>0</td>\n",
              "      <td>0</td>\n",
              "      <td>0</td>\n",
              "      <td>0</td>\n",
              "      <td>0</td>\n",
              "      <td>0</td>\n",
              "      <td>0</td>\n",
              "      <td>0</td>\n",
              "    </tr>\n",
              "  </tbody>\n",
              "</table>\n",
              "</div>"
            ],
            "text/plain": [
              "   Python  spark  aws  excel  sql  sas  keras  pytorch  scikit  tensor  \\\n",
              "0       1      0    0      1    0    1      0        0       0       0   \n",
              "1       1      0    0      0    0    0      0        0       0       0   \n",
              "2       1      1    0      1    1    1      0        0       0       0   \n",
              "3       1      0    0      0    0    0      0        0       0       0   \n",
              "4       1      0    0      1    1    1      0        0       0       0   \n",
              "\n",
              "   hadoop  tableau  bi  flink  mongo  google_an  \n",
              "0       0        1   1      0      0          0  \n",
              "1       0        0   0      0      0          0  \n",
              "2       0        0   0      0      0          0  \n",
              "3       0        0   0      0      0          0  \n",
              "4       0        0   0      0      0          0  "
            ]
          },
          "execution_count": 86,
          "metadata": {},
          "output_type": "execute_result"
        }
      ],
      "source": [
        "df.iloc[:,23:39].head(5)"
      ]
    },
    {
      "cell_type": "markdown",
      "id": "wKB1RixUqWcb",
      "metadata": {
        "id": "wKB1RixUqWcb"
      },
      "source": [
        "## 7. Job Title simplified."
      ]
    },
    {
      "cell_type": "code",
      "execution_count": 55,
      "id": "RMT5l16-sACP",
      "metadata": {
        "colab": {
          "base_uri": "https://localhost:8080/"
        },
        "id": "RMT5l16-sACP",
        "outputId": "5a0176e2-952e-40ca-96b6-ed974403f6f1"
      },
      "outputs": [
        {
          "data": {
            "text/plain": [
              "array(['Data Scientist', 'Healthcare Data Scientist',\n",
              "       'Research Scientist', 'Staff Data Scientist - Technology',\n",
              "       'Data Analyst'], dtype=object)"
            ]
          },
          "execution_count": 55,
          "metadata": {},
          "output_type": "execute_result"
        }
      ],
      "source": [
        "#Looking at this, we find there are many job titles\n",
        "df[\"Job Title\"].unique()[0:5]"
      ]
    },
    {
      "cell_type": "code",
      "execution_count": 56,
      "id": "nEDBOZmlorum",
      "metadata": {
        "id": "nEDBOZmlorum"
      },
      "outputs": [],
      "source": [
        "#Instead of just Data scientist job title, we have job title related to the data science field like ML engineer, data analist etc.\n",
        "def title_simplifier(title):\n",
        "    if 'data scientist' in title.lower():\n",
        "        return 'data scientist'\n",
        "    elif 'data science' in title.lower():\n",
        "        return 'data scientist'\n",
        "    elif 'data engineer' in title.lower():\n",
        "        return 'data engineer'\n",
        "    elif 'analyst' in title.lower():\n",
        "        return 'analyst'\n",
        "    elif 'machine learning' in title.lower():\n",
        "        return 'machine learning engineer'\n",
        "    elif 'manager' in title.lower():\n",
        "        return 'Data scientist project manager'\n",
        "    elif 'director' in title.lower():\n",
        "        return 'director'\n",
        "    elif 'scientist' in title.lower():\n",
        "        return 'other scientist'\n",
        "    elif 'data modeler' in title.lower():\n",
        "        return 'data modeler'\n",
        "    elif 'data' and 'anal' in title.lower():\n",
        "        return 'data analitics'\n",
        "    else:\n",
        "        return 'na'  #not applicable"
      ]
    },
    {
      "cell_type": "code",
      "execution_count": 57,
      "id": "fTqVjrz1qwxP",
      "metadata": {
        "colab": {
          "base_uri": "https://localhost:8080/"
        },
        "id": "fTqVjrz1qwxP",
        "outputId": "eaf19445-b808-4ed5-f51f-0cafb20ec66f"
      },
      "outputs": [
        {
          "data": {
            "text/plain": [
              "data scientist                    313\n",
              "other scientist                   143\n",
              "data engineer                     119\n",
              "analyst                           101\n",
              "machine learning engineer          22\n",
              "Data scientist project manager     16\n",
              "na                                 10\n",
              "data analitics                      8\n",
              "data modeler                        5\n",
              "director                            5\n",
              "Name: job_title_sim, dtype: int64"
            ]
          },
          "execution_count": 57,
          "metadata": {},
          "output_type": "execute_result"
        }
      ],
      "source": [
        "df['job_title_sim'] = df['Job Title'].apply(title_simplifier)\n",
        "df['job_title_sim'].value_counts()"
      ]
    },
    {
      "cell_type": "markdown",
      "id": "lr-tYr9WsPNH",
      "metadata": {
        "id": "lr-tYr9WsPNH"
      },
      "source": [
        "### By looking at the Job Description column, we can also classify these jobs into different seniority levels."
      ]
    },
    {
      "cell_type": "code",
      "execution_count": 58,
      "id": "z8goqFkVrFXu",
      "metadata": {
        "id": "z8goqFkVrFXu"
      },
      "outputs": [],
      "source": [
        "#This function looks for the seniority asked in the title of each job asking (Job Title column)\n",
        "def seniority(title):\n",
        "    if 's.sr' in title.lower() or 's. sr' in title.lower() or 's sr' in title.lower() or 'ssr' in title.lower() or 's. senior' in title.lower() or 'semi or' in title.lower() or 'middle' in title.lower() or 'mid' in title.lower():\n",
        "        return 'ssr'\n",
        "    elif 'jr' in title.lower() or 'junior' in title.lower():\n",
        "        return 'jr'\n",
        "    elif 'sr' in title.lower() or 'senior' in title.lower() or 'lead' in title.lower() or 'principal' in title.lower():\n",
        "        return 'sr'\n",
        "    else:\n",
        "        return 'na'"
      ]
    },
    {
      "cell_type": "code",
      "execution_count": 59,
      "id": "G0hyRgURsfHb",
      "metadata": {
        "colab": {
          "base_uri": "https://localhost:8080/"
        },
        "id": "G0hyRgURsfHb",
        "outputId": "6d21c836-9309-45f5-f9b4-b07934f31d72"
      },
      "outputs": [
        {
          "data": {
            "text/plain": [
              "na    519\n",
              "sr    220\n",
              "jr      3\n",
              "Name: seniority_by_title, dtype: int64"
            ]
          },
          "execution_count": 59,
          "metadata": {},
          "output_type": "execute_result"
        }
      ],
      "source": [
        "df['seniority_by_title'] = df['Job Title'].apply(seniority)\n",
        "df.seniority_by_title.value_counts()"
      ]
    },
    {
      "cell_type": "markdown",
      "id": "KcBNdwLcvP0P",
      "metadata": {
        "id": "KcBNdwLcvP0P"
      },
      "source": [
        "## 8. Size, Ownership and Revenue column corrections"
      ]
    },
    {
      "cell_type": "code",
      "execution_count": 60,
      "id": "iWfuEJ73t1Dl",
      "metadata": {
        "id": "iWfuEJ73t1Dl"
      },
      "outputs": [],
      "source": [
        "#Lets remove \"employees\" from size column\n",
        "df[\"Size\"] = df[\"Size\"].apply(lambda x: x.lower().replace(\"employees\",\"\"))\n",
        "df[\"Size\"] = df[\"Size\"].apply(lambda x: x.lower().replace(\" to \",\" - \"))\n",
        "df[\"Size\"] = df[\"Size\"].apply(lambda x: x.lower().replace(\"-1\",\"unknown\"))"
      ]
    },
    {
      "cell_type": "code",
      "execution_count": 61,
      "id": "uTs6i-g-vmuu",
      "metadata": {
        "colab": {
          "base_uri": "https://localhost:8080/"
        },
        "id": "uTs6i-g-vmuu",
        "outputId": "1b578d39-565f-4f18-e8d0-74d1f0b458ff"
      },
      "outputs": [
        {
          "data": {
            "text/plain": [
              "array(['501 - 1000 ', '10000+ ', '1001 - 5000 ', '51 - 200 ',\n",
              "       '201 - 500 ', '5001 - 10000 ', '1 - 50 ', 'unknown'], dtype=object)"
            ]
          },
          "execution_count": 61,
          "metadata": {},
          "output_type": "execute_result"
        }
      ],
      "source": [
        "df.Size.unique()"
      ]
    },
    {
      "cell_type": "code",
      "execution_count": 62,
      "id": "_BWzyXe2wz-e",
      "metadata": {
        "colab": {
          "base_uri": "https://localhost:8080/"
        },
        "id": "_BWzyXe2wz-e",
        "outputId": "3c2f3e79-c566-4ef9-8f5d-17bd26cc3739"
      },
      "outputs": [
        {
          "data": {
            "text/plain": [
              "Unknown / Non-Applicable            204\n",
              "$10+ billion (USD)                  124\n",
              "$100 to $500 million (USD)           91\n",
              "$1 to $2 billion (USD)               60\n",
              "$500 million to $1 billion (USD)     57\n",
              "$50 to $100 million (USD)            46\n",
              "$25 to $50 million (USD)             40\n",
              "$2 to $5 billion (USD)               39\n",
              "$10 to $25 million (USD)             32\n",
              "$5 to $10 billion (USD)              19\n",
              "$5 to $10 million (USD)              18\n",
              "$1 to $5 million (USD)                8\n",
              "Less than $1 million (USD)            4\n",
              "Name: Revenue, dtype: int64"
            ]
          },
          "execution_count": 62,
          "metadata": {},
          "output_type": "execute_result"
        }
      ],
      "source": [
        "#Revenue\n",
        "df['Revenue'] = df['Revenue'].apply(lambda x: 'Unknown / Non-Applicable' if '-1' in x.lower() else x)\n",
        "df['Revenue'].value_counts()"
      ]
    },
    {
      "cell_type": "code",
      "execution_count": 63,
      "id": "XFGXd-uJxqmk",
      "metadata": {
        "colab": {
          "base_uri": "https://localhost:8080/"
        },
        "id": "XFGXd-uJxqmk",
        "outputId": "0683e40b-fe1e-4568-f9c8-0f639a60ccb2"
      },
      "outputs": [
        {
          "data": {
            "text/plain": [
              "Company - Private                 410\n",
              "Company - Public                  193\n",
              "Nonprofit Organization             55\n",
              "Subsidiary or Business Segment     34\n",
              "Government                         15\n",
              "Hospital                           15\n",
              "College / University               13\n",
              "Other Organization                  5\n",
              "School / School District            2\n",
              "Name: Type of ownership, dtype: int64"
            ]
          },
          "execution_count": 63,
          "metadata": {},
          "output_type": "execute_result"
        }
      ],
      "source": [
        "# Type of ownership \n",
        "df['Type of ownership'] = df['Type of ownership'].apply(lambda x: 'Other Organization' if 'unknown' in x.lower() else ('Other Organization' if '-1' in x.lower() else x))\n",
        "df['Type of ownership'].value_counts()"
      ]
    },
    {
      "cell_type": "markdown",
      "id": "P4FDKolQSlMC",
      "metadata": {
        "id": "P4FDKolQSlMC"
      },
      "source": [
        "## 9. Degree column\n",
        "\n",
        "It will tell us if the company has any experience credits for Masters or a Ph.D. degree."
      ]
    },
    {
      "cell_type": "code",
      "execution_count": 64,
      "id": "MEcDg1FxTTah",
      "metadata": {
        "colab": {
          "base_uri": "https://localhost:8080/",
          "height": 192
        },
        "id": "MEcDg1FxTTah",
        "outputId": "1fda5b26-4355-47a8-f77b-823a0d8b58a9"
      },
      "outputs": [
        {
          "data": {
            "text/plain": [
              "'Data Scientist\\nLocation: Albuquerque, NM\\nEducation Required: Bachelor’s degree required, preferably in math, engineering, business, or the sciences.\\nSkills Required:\\nBachelor’s Degree in relevant field, e.g., math, data analysis, database, computer science, Artificial Intelligence (AI); three years’ experience credit for Master’s degree; five years’ experience credit for a Ph.D\\nApplicant should be proficient in the use of Power BI, Tableau, Python, MATLAB, Microsoft Word, PowerPoint, Excel, and working knowledge of MS Access, LMS, SAS, data visualization tools, and have a strong algorithmic aptitude\\nExcellent verbal and written communication skills, and quantitative analytical skills are required\\nApplicant must be able to work in a team environment\\nU.S. citizenship and ability to obtain a DoD Secret Clearance required\\nResponsibilities: The applicant will be responsible for formulating analytical solutions to complex data problems; creating data analytic models to improve data metrics; analyzing customer behavior and trends; delivering insights to stakeholders, as well as designing and crafting reports, dashboards, models, and algorithms to make data insights actionable; selecting features, building and optimizing classifiers using machine learning techniques; data mining using state-of-the-art methods, extending organization’s data with third party sources of information when needed; enhancing data collection procedures to include information that is relevant for building analytic systems; processing, cleansing, and verifying the integrity of data used for analysis; doing ad-hoc analysis and presenting results in a clear manner; and creating automated anomaly detection systems and constant tracking of its performance.\\nBenefits:\\nWe offer competitive salaries commensurate with education and experience. We have an excellent benefits package that includes:\\nComprehensive health, dental, life, long and short term disability insurance\\n100% Company funded Retirement Plans\\nGenerous vacation, holiday and sick pay plans\\nTuition assistance\\n\\nBenefits are provided to employees regularly working a minimum of 30 hours per week.\\n\\nTecolote Research is a private, employee-owned corporation where people are our primary resource. Our investments in technology and training give our employees the tools to ensure our clients are provided the solutions they need, and our very high employee retention rate and stable workforce is an added value to our customers. Apply now to connect with a company that invests in you.'"
            ]
          },
          "execution_count": 64,
          "metadata": {},
          "output_type": "execute_result"
        }
      ],
      "source": [
        "df[\"Job Description\"][0]"
      ]
    },
    {
      "cell_type": "code",
      "execution_count": 65,
      "id": "oXSOM7xgS4A9",
      "metadata": {
        "id": "oXSOM7xgS4A9"
      },
      "outputs": [],
      "source": [
        "#This function looks for the education degree (Maters or PhD) experience credits in the Job Description column.\n",
        "def education_credit(degree):\n",
        "    if 'master' in degree.lower() or 'masters' in degree.lower() or \"master's\" in degree.lower():\n",
        "        return 'M'\n",
        "    elif 'phd' in degree.lower() or 'ph.d' in degree.lower():\n",
        "        return 'P'\n",
        "    else:\n",
        "        return 'na'"
      ]
    },
    {
      "cell_type": "code",
      "execution_count": 66,
      "id": "bFaD4UUiaQC8",
      "metadata": {
        "colab": {
          "base_uri": "https://localhost:8080/"
        },
        "id": "bFaD4UUiaQC8",
        "outputId": "487e6eff-d9b7-476a-b8ee-acbcb30acadc"
      },
      "outputs": [
        {
          "data": {
            "text/plain": [
              "na    383\n",
              "M     252\n",
              "P     107\n",
              "Name: Degree, dtype: int64"
            ]
          },
          "execution_count": 66,
          "metadata": {},
          "output_type": "execute_result"
        }
      ],
      "source": [
        "df['Degree'] = df['Job Description'].apply(education_credit)\n",
        "df.Degree.value_counts()"
      ]
    },
    {
      "cell_type": "markdown",
      "id": "XqzGY6oOa3rk",
      "metadata": {
        "id": "XqzGY6oOa3rk"
      },
      "source": [
        "A good number (48%) of companies give experience credits for Masters or PhD degree."
      ]
    },
    {
      "cell_type": "code",
      "execution_count": 67,
      "id": "kXeXTevRxxDg",
      "metadata": {
        "id": "kXeXTevRxxDg"
      },
      "outputs": [],
      "source": [
        "#We are done with the data cleaning. Lets export the adataset into another csv file.\n",
        "df_out=df\n",
        "#df_out.to_csv('data_cleaned_2020.csv',index=False)\n",
        "df_out.to_csv('data_cleaned_2021.csv',index=False)\n",
        "\n",
        "#Checking if the database was exported correctly:\n",
        "#pd.read_csv('data_cleaned_2020.csv')"
      ]
    },
    {
      "cell_type": "code",
      "execution_count": 72,
      "id": "ca881ac9",
      "metadata": {},
      "outputs": [
        {
          "data": {
            "text/plain": [
              "Index(['index', 'Job Title', 'Salary Estimate', 'Job Description', 'Rating',\n",
              "       'Company Name', 'Location', 'Headquarters', 'Size', 'Founded',\n",
              "       'Type of ownership', 'Industry', 'Sector', 'Revenue', 'Competitors',\n",
              "       'Hourly', 'Employer provided', 'Lower Salary', 'Upper Salary',\n",
              "       'Avg Salary(K)', 'company_txt', 'Job Location', 'Age', 'Python',\n",
              "       'spark', 'aws', 'excel', 'sql', 'sas', 'keras', 'pytorch', 'scikit',\n",
              "       'tensor', 'hadoop', 'tableau', 'bi', 'flink', 'mongo', 'google_an',\n",
              "       'job_title_sim', 'seniority_by_title', 'Degree'],\n",
              "      dtype='object')"
            ]
          },
          "execution_count": 72,
          "metadata": {},
          "output_type": "execute_result"
        }
      ],
      "source": [
        "df.columns"
      ]
    },
    {
      "cell_type": "code",
      "execution_count": null,
      "id": "T6NNjCQ5bUin",
      "metadata": {
        "id": "T6NNjCQ5bUin"
      },
      "outputs": [],
      "source": []
    }
  ],
  "metadata": {
    "colab": {
      "collapsed_sections": [],
      "name": "Glassdoor_DS_cleaning.ipynb",
      "provenance": []
    },
    "kernelspec": {
      "display_name": "base",
      "language": "python",
      "name": "python3"
    },
    "language_info": {
      "codemirror_mode": {
        "name": "ipython",
        "version": 3
      },
      "file_extension": ".py",
      "mimetype": "text/x-python",
      "name": "python",
      "nbconvert_exporter": "python",
      "pygments_lexer": "ipython3",
      "version": "3.9.13"
    },
    "vscode": {
      "interpreter": {
        "hash": "ff4f85d6e04298634172ac5d8264e7e9b556b95639fe52ebb9425c4d4cba0c9c"
      }
    }
  },
  "nbformat": 4,
  "nbformat_minor": 5
}
